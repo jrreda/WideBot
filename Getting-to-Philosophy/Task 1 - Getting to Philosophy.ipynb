{
 "cells": [
  {
   "cell_type": "code",
   "execution_count": 1,
   "metadata": {
    "scrolled": false
   },
   "outputs": [
    {
     "name": "stdout",
     "output_type": "stream",
     "text": [
      "Greek_language\n",
      "Modern_Greek\n",
      "Dialect\n",
      "Latin\n",
      "Help:IPA/Latin\n",
      "International_Phonetic_Alphabet\n",
      "Alphabet\n",
      "Letter_(alphabet)\n",
      "Symbol\n",
      "Idea\n",
      "Philosophy\n",
      "\n",
      "It took 10 times to get to the Philosophy page on Wikipedia. Thanks WideBot for the puzzle!\n"
     ]
    }
   ],
   "source": [
    "import requests\n",
    "\n",
    "# URL for a random article\n",
    "# url = requests.get('http://en.wikipedia.org/w/index.php?title=Special:Random')\n",
    "\n",
    "# First URL\n",
    "url = requests.get('https://en.wikipedia.org/wiki/Greece')\n",
    "\n",
    "\n",
    "# Finds the first link/title (broken when it has a country)\n",
    "def get_next_URL(url): \n",
    "    page = url.text\n",
    "    # Find the first <p> tag for the main body\n",
    "    mainP = page[page.find('<p>'):page.find('<p>')+500]\n",
    "    # Find the first href for the link\n",
    "    url = mainP[mainP.find('<a href=\"/wiki/')+15:mainP.find('\"',mainP.find('<a href=\"/wiki/')+15)]\n",
    "    return url\n",
    "\n",
    "# Gets page name from the url\n",
    "newPage = get_next_URL(url)\n",
    "\n",
    "counter = 0 #Keeps track of the iterations\n",
    "\n",
    "if newPage == 'Philosophy':\n",
    "    print(\"The Random page chosen was the Philosophy page. Isn't the universe cool?\")\n",
    "else:\n",
    "    print(newPage)\n",
    "    while newPage !='Philosophy':\n",
    "        # Creates the next link to go to based upon the first link\n",
    "        newURL = 'http://en.wikipedia.org/w/index.php?title=' + newPage\n",
    "        # Creates the next response\n",
    "        new_response = requests.get(newURL)\n",
    "        # Gets the next link by Calling the get_next_URL function        \n",
    "        newPage = get_next_URL(new_response)\n",
    "\n",
    "        print(newPage)\n",
    "        counter +=1\n",
    "\n",
    "print('\\nIt took %d times to get to the Philosophy page on Wikipedia. Thanks WideBot for the puzzle!'% counter)"
   ]
  },
  {
   "cell_type": "code",
   "execution_count": null,
   "metadata": {},
   "outputs": [],
   "source": []
  }
 ],
 "metadata": {
  "kernelspec": {
   "display_name": "Python 3",
   "language": "python",
   "name": "python3"
  },
  "language_info": {
   "codemirror_mode": {
    "name": "ipython",
    "version": 3
   },
   "file_extension": ".py",
   "mimetype": "text/x-python",
   "name": "python",
   "nbconvert_exporter": "python",
   "pygments_lexer": "ipython3",
   "version": "3.6.8"
  }
 },
 "nbformat": 4,
 "nbformat_minor": 2
}
